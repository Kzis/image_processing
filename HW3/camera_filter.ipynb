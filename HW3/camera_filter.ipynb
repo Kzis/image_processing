{
 "cells": [
  {
   "cell_type": "code",
   "execution_count": 14,
   "metadata": {},
   "outputs": [],
   "source": [
    "import cv2\n",
    "import numpy as np\n",
    "import matplotlib.pyplot as plt"
   ]
  },
  {
   "cell_type": "code",
   "execution_count": 15,
   "metadata": {},
   "outputs": [],
   "source": [
    "def sharp_image(img):\n",
    "    sharp_kernel = np.zeros((3,3), np.float32)\n",
    "    sharp_kernel.itemset((1,1), 2)\n",
    "    sharp_kernel -= np.ones((3,3), np.float32)/9\n",
    "    return cv2.filter2D(img, -1, sharp_kernel)\n",
    "\n",
    "def blur_image(img):\n",
    "    blur_kernel = np.ones((7,7), np.float32)/49\n",
    "    return  cv2.filter2D(img, -1, blur_kernel)\n",
    "\n",
    "def new_filter(img):\n",
    "    new_kernel = np.zeros((2,2), np.float32)\n",
    "    new_kernel[:,0] = 1\n",
    "    new_kernel[:,1] = -1\n",
    "    flip_kernel = cv2.flip(new_kernel, flipCode=-1)\n",
    "    return cv2.filter2D(img, -1,  flip_kernel)\n",
    "\n",
    "def apply_filter(img):\n",
    "    h, w = img.shape[:2]\n",
    "    vedio1 =  cv2.resize(img, (w//2, h//2))\n",
    "    vedio2 =  sharp_image(cv2.resize(img, (w//2, h//2)))\n",
    "    vedio3 =  blur_image(cv2.resize(img, (w//2, h//2)))\n",
    "    vedio4 =  new_filter(cv2.resize(img, (w//2, h//2)))\n",
    "    top = np.concatenate((vedio1, vedio2), axis=1)\n",
    "    bot = np.concatenate((vedio3, vedio4), axis=1)\n",
    "    all =  np.concatenate((top, bot), axis=0)\n",
    "    cv2.imshow(\"Kzis\",all)\n",
    "    \n",
    "def apply_filter_no_resize(img):\n",
    "    h, w = img.shape[:2]\n",
    "    vedio1 =  img\n",
    "    vedio2 =  sharp_image(img)\n",
    "    vedio3 =  blur_image(img)\n",
    "    vedio4 =  new_filter(img)\n",
    "    top = np.concatenate((vedio1, vedio2), axis=1)\n",
    "    bot = np.concatenate((vedio3, vedio4), axis=1)\n",
    "    all =  np.concatenate((top, bot), axis=0)\n",
    "    cv2.imshow(\"Kzis\",all)"
   ]
  },
  {
   "cell_type": "code",
   "execution_count": 16,
   "metadata": {},
   "outputs": [],
   "source": [
    "cam = cv2.VideoCapture(0)       \n",
    "while True:\n",
    "    retval,img = cam.read()\n",
    "    \n",
    "    if ( retval ):\n",
    "        apply_filter(img)\n",
    "    else:\n",
    "        print(\"Error, no image from camera\")\n",
    "\n",
    "    if (cv2.waitKey(1)== 27):       # press ESC to quit\n",
    "        break\n",
    "\n",
    "cv2.destroyAllWindows() \n",
    "\n",
    "if cam.isOpened():\n",
    "    cam.release()"
   ]
  }
 ],
 "metadata": {
  "kernelspec": {
   "display_name": "Python 3",
   "language": "python",
   "name": "python3"
  },
  "language_info": {
   "codemirror_mode": {
    "name": "ipython",
    "version": 3
   },
   "file_extension": ".py",
   "mimetype": "text/x-python",
   "name": "python",
   "nbconvert_exporter": "python",
   "pygments_lexer": "ipython3",
   "version": "3.6.8"
  }
 },
 "nbformat": 4,
 "nbformat_minor": 2
}
