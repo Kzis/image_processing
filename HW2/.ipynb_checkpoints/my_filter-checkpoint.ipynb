{
 "cells": [
  {
   "cell_type": "code",
   "execution_count": 3,
   "metadata": {},
   "outputs": [],
   "source": [
    "import cv2\n",
    "import numpy as np\n",
    "import matplotlib.pyplot as plt"
   ]
  },
  {
   "cell_type": "code",
   "execution_count": 6,
   "metadata": {},
   "outputs": [],
   "source": [
    "def coldFilter(img):\n",
    "    cold = cv2.add(img, (150, 0, 0, 0))\n",
    "    return cold"
   ]
  },
  {
   "cell_type": "code",
   "execution_count": 7,
   "metadata": {},
   "outputs": [],
   "source": [
    "cam = cv2.VideoCapture(0) \n",
    "while True:\n",
    "    retval,img = cam.read()\n",
    "    \n",
    "    if ( retval ):\n",
    "        cv2.imshow(\"Camera\",coldFilter(img))\n",
    "    else:\n",
    "        print(\"Error, no image from camera\")\n",
    "\n",
    "    # Wait 1 millisecond for any key press\n",
    "    if (cv2.waitKey(1)== 27):       # press ESC to quit\n",
    "        break\n",
    "\n",
    "cv2.destroyAllWindows()     # close all OpenCV windows\n",
    "\n",
    "if cam.isOpened():\n",
    "    cam.release()"
   ]
  }
 ],
 "metadata": {
  "kernelspec": {
   "display_name": "Python 3",
   "language": "python",
   "name": "python3"
  },
  "language_info": {
   "codemirror_mode": {
    "name": "ipython",
    "version": 3
   },
   "file_extension": ".py",
   "mimetype": "text/x-python",
   "name": "python",
   "nbconvert_exporter": "python",
   "pygments_lexer": "ipython3",
   "version": "3.6.8"
  }
 },
 "nbformat": 4,
 "nbformat_minor": 2
}
