{
 "cells": [
  {
   "cell_type": "code",
   "execution_count": 6,
   "metadata": {},
   "outputs": [],
   "source": [
    "import numpy as np\n",
    "import cv2\n",
    "\n",
    "def HSV(src_h,src_s,src_v) :   \n",
    "    \n",
    "    # Define RGB color and convert to HSV\n",
    "    Lower_H = 20\n",
    "    Upper_H = 32\n",
    "\n",
    "    # Lower satuation 20% of maximum\n",
    "    Sat = 0.2*255\n",
    "\n",
    "    mask_h = cv2.inRange(src_h,Lower_H,Upper_H)\n",
    "    mask_s = cv2.inRange(src_s,Sat,255)  \n",
    "    \n",
    "    # Combine Hue and Satuation mask    \n",
    "    mask_hsv = cv2.bitwise_and(mask_h,mask_s)\n",
    "           \n",
    "    return mask_hsv"
   ]
  },
  {
   "cell_type": "code",
   "execution_count": 7,
   "metadata": {},
   "outputs": [],
   "source": [
    "capture = cv2.VideoCapture(0)\n",
    "\n",
    "while True :\n",
    "    \n",
    "    # read video frame\n",
    "    ret,frame = capture.read()\n",
    "    if not ret :\n",
    "        break\n",
    "    \n",
    "    #resize \n",
    "    frame = cv2.resize(frame,(640,480))\n",
    "        \n",
    "    # convert BGR frame to HSV and split image to 1-channel grayscale\n",
    "    frame_hsv = cv2.cvtColor(frame,cv2.COLOR_BGR2HSV)\n",
    "    src_h = frame_hsv[:,:,0]\n",
    "    src_s = frame_hsv[:,:,1]\n",
    "    src_v = frame_hsv[:,:,2]\n",
    "    \n",
    "    # Create mask HSV \n",
    "    mask_hsv = HSV(src_h,src_s,src_v)\n",
    "    \n",
    "    # Color segment between original frame and mask HSV\n",
    "    segment = cv2.bitwise_and(frame,cv2.cvtColor(mask_hsv,cv2.COLOR_GRAY2BGR))\n",
    "    \n",
    "    # show frame\n",
    "    segment_h = np.hstack([frame,segment])\n",
    "    cv2.imshow('Automate detect='+color,segment_h)\n",
    "    \n",
    "    if cv2.waitKey(1) == 27 :  # Esc = exit \n",
    "        break \n",
    "\n",
    "cv2.destroyAllWindows()"
   ]
  }
 ],
 "metadata": {
  "kernelspec": {
   "display_name": "Python 3",
   "language": "python",
   "name": "python3"
  },
  "language_info": {
   "codemirror_mode": {
    "name": "ipython",
    "version": 3
   },
   "file_extension": ".py",
   "mimetype": "text/x-python",
   "name": "python",
   "nbconvert_exporter": "python",
   "pygments_lexer": "ipython3",
   "version": "3.6.8"
  }
 },
 "nbformat": 4,
 "nbformat_minor": 2
}
